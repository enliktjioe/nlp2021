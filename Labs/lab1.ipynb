{
  "nbformat": 4,
  "nbformat_minor": 0,
  "metadata": {
    "colab": {
      "name": "lab1.ipynb",
      "provenance": [],
      "collapsed_sections": []
    },
    "kernelspec": {
      "name": "python3",
      "display_name": "Python 3"
    }
  },
  "cells": [
    {
      "cell_type": "markdown",
      "metadata": {
        "id": "FnanpnNgx6wj"
      },
      "source": [
        "# Lab 1: NLP Basics\n",
        "## Text Preprocessing\n",
        "Text preprocessing is, probably, one of the least pleasant yet one of the most important steps of a natural language processing (NLP) pipelines. This step determines how your NLP algorithms are going to see the data. If your preprocessing breaks, the whole model can break or, what is even worse, keep silent and give incorrect results.\n",
        "\n",
        "Text preprocessing can be devided into three main parts:\n",
        "* Tokenization\n",
        "* Normalization\n",
        "* Noise reduction\n",
        "\n",
        "The parts are not necessarily applied in that particular order. Sometimes, before tokenization the noise reduction should be performed. In other cases, the some steps can be repeated several times.\n",
        "\n",
        "\n",
        "In this lab we will be using [Python's Natural Language ToolKit (NLTK)](https://www.nltk.org/) and [spaCy](https://spacy.io/usage/spacy-101). Click the previous links to read more about them. "
      ]
    },
    {
      "cell_type": "code",
      "metadata": {
        "id": "ztDD4dWwnkCD"
      },
      "source": [
        "from string import punctuation\n",
        "\n",
        "import nltk\n",
        "from nltk import word_tokenize, sent_tokenize, pos_tag\n",
        "from nltk.stem import PorterStemmer, WordNetLemmatizer\n",
        "from nltk.corpus import stopwords, wordnet\n",
        "\n",
        "import spacy\n",
        "nlp = spacy.load(\"en_core_web_sm\")\n",
        "# If you don't have the model installed run \"python -m spacy download en_core_web_sm\"\n",
        "# in the console and restart the python kernel"
      ],
      "execution_count": null,
      "outputs": []
    },
    {
      "cell_type": "code",
      "metadata": {
        "colab": {
          "base_uri": "https://localhost:8080/"
        },
        "id": "1sdJQ0cIng75",
        "outputId": "8eda1d9b-85b7-4d9f-f252-1dbb30a6a3ed"
      },
      "source": [
        "# Run this cell to install all the necessary files for NLTK\n",
        "nltk.download('stopwords') # Download stopwords \n",
        "nltk.download('wordnet') # Download WordNet \n",
        "nltk.download('punkt') # Download punkt tokenizer models\n",
        "nltk.download('averaged_perceptron_tagger') # Download POS tagger"
      ],
      "execution_count": null,
      "outputs": [
        {
          "output_type": "stream",
          "text": [
            "[nltk_data] Downloading package stopwords to /root/nltk_data...\n",
            "[nltk_data]   Unzipping corpora/stopwords.zip.\n",
            "[nltk_data] Downloading package wordnet to /root/nltk_data...\n",
            "[nltk_data]   Unzipping corpora/wordnet.zip.\n",
            "[nltk_data] Downloading package punkt to /root/nltk_data...\n",
            "[nltk_data]   Unzipping tokenizers/punkt.zip.\n",
            "[nltk_data] Downloading package averaged_perceptron_tagger to\n",
            "[nltk_data]     /root/nltk_data...\n",
            "[nltk_data]   Unzipping taggers/averaged_perceptron_tagger.zip.\n"
          ],
          "name": "stdout"
        },
        {
          "output_type": "execute_result",
          "data": {
            "text/plain": [
              "True"
            ]
          },
          "metadata": {
            "tags": []
          },
          "execution_count": 2
        }
      ]
    },
    {
      "cell_type": "markdown",
      "metadata": {
        "id": "xR-6OGGu0sYW"
      },
      "source": [
        "## Tokenization\n",
        "Tokenization may be defined as the process of splitting the text into smaller parts called tokens, and is considered a crucial step in NLP. We can highlight word segmentation and sentence segmentation. Depending on the task, you might need to use only word segmentation, for other tasks, you might want to have both sentences and words.\n",
        "\n",
        "As the names suggest, word segmentation is dividing the raw text sequence into words and sentence segmentation is dividing the text into sentences.\n",
        "\n",
        "Imagine that we need to parse the some sentences  from the Wikipedia article about Coffee. We have the following raw text:"
      ]
    },
    {
      "cell_type": "code",
      "metadata": {
        "colab": {
          "base_uri": "https://localhost:8080/"
        },
        "id": "O23IHMF00u_C",
        "outputId": "d0ec2fe4-cb52-43ac-d72f-3cf7e62098b7"
      },
      "source": [
        "raw_text = \"Coffee is a brewed drink prepared from roasted coffee beans, the seeds of berries from certain Coffea species. When coffee berries turn from green to bright red in color – indicating ripeness – they are picked, processed, and dried. \" + \\\n",
        "           \"By the 16th century, the drink had reached the rest of the Middle East and North Africa, later spreading to Europe.\"\n",
        "print(raw_text)"
      ],
      "execution_count": null,
      "outputs": [
        {
          "output_type": "stream",
          "text": [
            "Coffee is a brewed drink prepared from roasted coffee beans, the seeds of berries from certain Coffea species. When coffee berries turn from green to bright red in color – indicating ripeness – they are picked, processed, and dried. By the 16th century, the drink had reached the rest of the Middle East and North Africa, later spreading to Europe.\n"
          ],
          "name": "stdout"
        }
      ]
    },
    {
      "cell_type": "markdown",
      "metadata": {
        "id": "Cw50y6aG0ztv"
      },
      "source": [
        "A simple approach is to define a subset of characters as whitespace, and then split the text on these tokens."
      ]
    },
    {
      "cell_type": "code",
      "metadata": {
        "colab": {
          "base_uri": "https://localhost:8080/"
        },
        "id": "RoC3_XAS0zPl",
        "outputId": "6b08c167-eaac-4431-eb40-3329ebadc820"
      },
      "source": [
        "whitespaces = ...\n",
        "tokens = ...\n",
        "print(tokens)"
      ],
      "execution_count": null,
      "outputs": [
        {
          "output_type": "stream",
          "text": [
            "Ellipsis\n"
          ],
          "name": "stdout"
        }
      ]
    },
    {
      "cell_type": "markdown",
      "metadata": {
        "id": "ZaFIhcpa1FJZ"
      },
      "source": [
        "But already here, we can see the problem with the tokens like '*dried*.' and '*Africa*,.'. In our case, the dot is the part of the token that we definetely don't want. One solution is to strip each token from the punctuation."
      ]
    },
    {
      "cell_type": "code",
      "metadata": {
        "colab": {
          "base_uri": "https://localhost:8080/"
        },
        "id": "2VfPndDB0xkm",
        "outputId": "16bee194-d648-44f5-a60d-adf1c23f2fc5"
      },
      "source": [
        "def whitespace_tokenize(text):\n",
        "    ...\n",
        "    \n",
        "\n",
        "print(whitespace_tokenize(raw_text))"
      ],
      "execution_count": null,
      "outputs": [
        {
          "output_type": "stream",
          "text": [
            "None\n"
          ],
          "name": "stdout"
        }
      ]
    },
    {
      "cell_type": "markdown",
      "metadata": {
        "id": "tcwfDE461NPw"
      },
      "source": [
        "Let's say now, that we want to split the text into sentences and then get tokens for each sentence. The simplest way is to split the text by dot first and then get tokens for each sentence."
      ]
    },
    {
      "cell_type": "code",
      "metadata": {
        "colab": {
          "base_uri": "https://localhost:8080/"
        },
        "id": "0FzigQpg1MxA",
        "outputId": "83c6f3a7-d4ae-4e95-c1b6-795ed0ababf6"
      },
      "source": [
        "def segment_sents(text):\n",
        "  ...\n",
        "\n",
        "print(segment_sents(raw_text))"
      ],
      "execution_count": null,
      "outputs": [
        {
          "output_type": "stream",
          "text": [
            "None\n"
          ],
          "name": "stdout"
        }
      ]
    },
    {
      "cell_type": "markdown",
      "metadata": {
        "id": "pqeUbvID1Xb6"
      },
      "source": [
        "For this example, it worked fine so far. But this task hold many surprises for an unprepared person. Let's see another examples that can cause troubles if using our function."
      ]
    },
    {
      "cell_type": "code",
      "metadata": {
        "colab": {
          "base_uri": "https://localhost:8080/"
        },
        "id": "aKg5JQ9D1XDK",
        "outputId": "cd54d19d-7a7a-46f5-b960-09575cdee51e"
      },
      "source": [
        "difficult_sents = [\n",
        "    \"Dr. Ford did not ask Col. Mustard the name of Mr. Smith's dog.\",\n",
        "    '\"What is all the fuss about?\" asked Mr. Peters.',\n",
        "     \"This full-time student isn't living in on-campus housing, and she's not wanting to visit Hawai'i.\"\n",
        "]\n",
        "\n",
        "..."
      ],
      "execution_count": null,
      "outputs": [
        {
          "output_type": "execute_result",
          "data": {
            "text/plain": [
              "Ellipsis"
            ]
          },
          "metadata": {
            "tags": []
          },
          "execution_count": 7
        }
      ]
    },
    {
      "cell_type": "markdown",
      "metadata": {
        "id": "SBIIUzzR1bqv"
      },
      "source": [
        "Here, we can see that different abbreviations like Dr., Col., Mr. were treated as a sentence end. Also, contractions like let's and she's are in fact two words: is not and she is. However, Smith's can be either Smith is or rather, like in our case, one word showing possession. Finally, we have to decide if full-time and on-campus have one word or two. \n",
        "\n",
        "Luckily, for English, we can use different libraries like NLTK or spaCy which tackle most of these problems. Let's see, how they manage with our sentences."
      ]
    },
    {
      "cell_type": "code",
      "metadata": {
        "colab": {
          "base_uri": "https://localhost:8080/"
        },
        "id": "1uhFS4J11bL3",
        "outputId": "e15433b1-19b6-4715-b022-7440687ba287"
      },
      "source": [
        "print(\"NLTK tokenization:\\n\")\n",
        "..."
      ],
      "execution_count": null,
      "outputs": [
        {
          "output_type": "stream",
          "text": [
            "NLTK tokenization:\n",
            "\n"
          ],
          "name": "stdout"
        }
      ]
    },
    {
      "cell_type": "code",
      "metadata": {
        "colab": {
          "base_uri": "https://localhost:8080/"
        },
        "id": "muotsnNr1gN6",
        "outputId": "33402e17-ccb3-4085-a43b-8b7395ab6baf"
      },
      "source": [
        "print(\"Spacy tokenization:\\n\")\n",
        "...\n"
      ],
      "execution_count": null,
      "outputs": [
        {
          "output_type": "stream",
          "text": [
            "Spacy tokenization:\n",
            "\n"
          ],
          "name": "stdout"
        }
      ]
    },
    {
      "cell_type": "markdown",
      "metadata": {
        "id": "gfc9SAxM1lZQ"
      },
      "source": [
        "As we can see, Spacy is somewhat better for this task. However, this is only that good for English and, probably, most of the European languages. If we take a language where the words are not graphically separated in writing, like Chinese, Thai, or German compound words, we need to choose another approach."
      ]
    },
    {
      "cell_type": "markdown",
      "metadata": {
        "id": "PBo7gfD_1sXI"
      },
      "source": [
        "## Normalization\n",
        "In order to carry out processing on natural language text, we need to perform normalization that mainly involves eliminating punctuation, converting the entire text into lowercase or uppercase, converting numbers into words, expanding abbreviations, canonicalization of text, and so on. \n",
        "\n",
        "We are going to look at the main steps: **stemming** and **lemmatization**. \n",
        "\n",
        "Stemming usually refers to removing endings and prefixes from a word. For example, playing and played are going to be reduced to play after going through the stemmer. It works rather well for English but it can be troublesome for other languages with not complicated morphology. Also, the past tense for run, ran is not going to be changed with stemming and finally is going to be considered a different word. \n",
        "\n",
        "NLTK library includes a stemming package as well."
      ]
    },
    {
      "cell_type": "code",
      "metadata": {
        "colab": {
          "base_uri": "https://localhost:8080/"
        },
        "id": "Xt-5Se8E1lNn",
        "outputId": "164cd385-81fd-420c-ff43-c378da38b35c"
      },
      "source": [
        "words_to_stem = ['playing', 'played', 'plays', 'play', 'running', 'ran', 'runs', 'run']\n",
        "...\n",
        "print('Stemming with NLTK:\\n')\n",
        "..."
      ],
      "execution_count": null,
      "outputs": [
        {
          "output_type": "stream",
          "text": [
            "Stemming with NLTK:\n",
            "\n"
          ],
          "name": "stdout"
        }
      ]
    },
    {
      "cell_type": "markdown",
      "metadata": {
        "id": "cngRv8KO1yWO"
      },
      "source": [
        "To solve the problem with the words that change their roots in different grammarical forms, we should use more complicated method, called lemmatization. Lemmatization is a process wherein the context is used to convert a word to its meaningful base form. It helps in grouping together words that have a common base form and so can\n",
        "be identified as a single item. Now, however, most of the lemmatizers are trained using neural networks.\n",
        "\n",
        "\n",
        "Both NLTK and Spacy have a lemmatization module for English.\n"
      ]
    },
    {
      "cell_type": "code",
      "metadata": {
        "colab": {
          "base_uri": "https://localhost:8080/"
        },
        "id": "gTK71HHJ1xr_",
        "outputId": "02247da2-6b5c-4560-a13d-121154d0c7f9"
      },
      "source": [
        "print('Lemmatization with NLTK:\\n')..."
      ],
      "execution_count": null,
      "outputs": [
        {
          "output_type": "stream",
          "text": [
            "Lemmatization with NLTK:\n",
            "\n"
          ],
          "name": "stdout"
        }
      ]
    },
    {
      "cell_type": "markdown",
      "metadata": {
        "id": "qFdJ5pYC13kN"
      },
      "source": [
        "We can see immediately that NLTK doesn't give correct lemmas for our words. This is because the NLTK lemmarizer expects to have a part-of-speech (POS) tag for each word, i.e. the information if the word is a noun, a verb, an adjective etc. We can, of course, specify the POS tag for each word but if our corpus is big, it will be tiresome to determine the POS tags by hand. In order to do that, we can use already pretrained POS tagger. We're going to look at POS tagging later."
      ]
    },
    {
      "cell_type": "code",
      "metadata": {
        "colab": {
          "base_uri": "https://localhost:8080/"
        },
        "id": "vyblALLs127d",
        "outputId": "c5ff2709-66cd-4761-835e-2e32fcebcdee"
      },
      "source": [
        "print('Lemmatization with NLTK with correct pos tags:\\n')\n",
        "..."
      ],
      "execution_count": null,
      "outputs": [
        {
          "output_type": "stream",
          "text": [
            "Lemmatization with NLTK with correct pos tags:\n",
            "\n"
          ],
          "name": "stdout"
        }
      ]
    },
    {
      "cell_type": "markdown",
      "metadata": {
        "id": "sozGhW_i17a4"
      },
      "source": [
        "Conveniently for us, Spacy does POS tagging and other necessary preprocessing for lemmatization, and we can get all the lemmas with only one command."
      ]
    },
    {
      "cell_type": "code",
      "metadata": {
        "colab": {
          "base_uri": "https://localhost:8080/"
        },
        "id": "OgE3DK8c1-mf",
        "outputId": "eaf9336a-4eed-4788-e6bb-5682c5aba97d"
      },
      "source": [
        "print('Lemmatization with Spacy:\\n')\n",
        "..."
      ],
      "execution_count": null,
      "outputs": [
        {
          "output_type": "stream",
          "text": [
            "Lemmatization with Spacy:\n",
            "\n"
          ],
          "name": "stdout"
        }
      ]
    },
    {
      "cell_type": "markdown",
      "metadata": {
        "id": "JJbOxCEx2B0h"
      },
      "source": [
        "We can also see how our sentences from the previous exercise look after stemming and lemmatization:"
      ]
    },
    {
      "cell_type": "code",
      "metadata": {
        "id": "dqqldlMclvom"
      },
      "source": [
        "print(\"NLTK stemming:\\n\")\n",
        "for sent in difficult_sents:\n",
        "  ...\n",
        "  nltk_sents = ... \n",
        "  print(f'Original sentence:\\n{nltk_sents}')\n",
        "  nltk_stems = []\n",
        "  for sent in nltk_sents:\n",
        "    stemmed_sent = []\n",
        "    for token in sent:\n",
        "      ...\n",
        "    ...\n",
        "print(f'Stemmed sentence:\\n{nltk_stems}')\n",
        "print('\\n------\\n')"
      ],
      "execution_count": null,
      "outputs": []
    },
    {
      "cell_type": "markdown",
      "metadata": {
        "id": "fg4UX4632Hvy"
      },
      "source": [
        "\n",
        "We can see the NLTK stemmer also puts all the words to lowercase which is another part of normalization. Also, we can also see some artifacts with the stemming like thi, full-tim, on-campu.\n",
        "\n",
        "Let's now see the lemmatized sentence from Spacy:"
      ]
    },
    {
      "cell_type": "code",
      "metadata": {
        "colab": {
          "base_uri": "https://localhost:8080/"
        },
        "id": "Xms8YUTe2HU7",
        "outputId": "3e34f1d0-745f-4d91-e945-3fdea1ddc439"
      },
      "source": [
        "print(\"Spacy lemmatization:\\n\")\n",
        "for sent in difficult_sents:\n",
        "    doc = ... \n",
        "    print(f'Original sentence:\\n{...}')\n",
        "    print(f'Lemmatized sentence:\\n{...}')\n",
        "    print('\\n------\\n')"
      ],
      "execution_count": null,
      "outputs": [
        {
          "output_type": "stream",
          "text": [
            "Spacy lemmatization:\n",
            "\n",
            "Original sentence:\n",
            "Ellipsis\n",
            "Lemmatized sentence:\n",
            "Ellipsis\n",
            "\n",
            "------\n",
            "\n",
            "Original sentence:\n",
            "Ellipsis\n",
            "Lemmatized sentence:\n",
            "Ellipsis\n",
            "\n",
            "------\n",
            "\n",
            "Original sentence:\n",
            "Ellipsis\n",
            "Lemmatized sentence:\n",
            "Ellipsis\n",
            "\n",
            "------\n",
            "\n"
          ],
          "name": "stdout"
        }
      ]
    },
    {
      "cell_type": "markdown",
      "metadata": {
        "id": "T2-OiQaj2NjH"
      },
      "source": [
        "\n",
        "With lemmatization, the results look better: *did* trasformed to *do*, as well as *is* and *'s* to *be*. Another good thing is that in the first sentence *'s* in *Smith's dog* stayed as *'s* which is important because in this case it is not a contraction from the verb *is*.\n",
        "\n",
        "Another parts for the normalization include:\n",
        "\n",
        "* Removing the punctuation\n",
        "* Removing whitespace\n",
        "* Removing numbers or converting them into text\n",
        "* Removing stop words\n",
        "\n",
        "Finally, we can look a bit more into the stop words. Stopwords are words such as a, an, the, in, at, and so on that occur frequently in text corpora\n",
        "and do not carry a lot of information in most contexts. These words, in general, are required\n",
        "for the completion of sentences and making them grammatically sound. They are often the\n",
        "most common words in a language and can be filtered out in most NLP tasks, and\n",
        "consequently help in reducing the vocabulary or search space.  However, the stop list can be modified to fit a specific task.\n",
        "\n",
        "Both NLTK and Spacy have built-in lists for stop words, however, you are free to find it anywhere else on the internet or even compose your own list."
      ]
    },
    {
      "cell_type": "code",
      "metadata": {
        "colab": {
          "base_uri": "https://localhost:8080/"
        },
        "id": "Qv81sHf22Udk",
        "outputId": "d4f589e9-c18d-4d5a-f6a5-9a38fa6262cf"
      },
      "source": [
        "print('Stop words for English from NLTK:\\n')\n",
        "\n",
        "nltk_stopwords = ... \n",
        "print(nltk_stopwords)"
      ],
      "execution_count": null,
      "outputs": [
        {
          "output_type": "stream",
          "text": [
            "Stop words for English from NLTK:\n",
            "\n",
            "Ellipsis\n"
          ],
          "name": "stdout"
        }
      ]
    },
    {
      "cell_type": "code",
      "metadata": {
        "colab": {
          "base_uri": "https://localhost:8080/"
        },
        "id": "CzMtlhlx2XCL",
        "outputId": "f74ed42c-36d7-4a3c-a687-984b4d359553"
      },
      "source": [
        "print('Stop words for English from Spacy:\\n')\n",
        "..."
      ],
      "execution_count": null,
      "outputs": [
        {
          "output_type": "stream",
          "text": [
            "Stop words for English from Spacy:\n",
            "\n"
          ],
          "name": "stdout"
        }
      ]
    },
    {
      "cell_type": "markdown",
      "metadata": {
        "id": "-ThXpnen2aFD"
      },
      "source": [
        "Finally, we can see how our sentences look with the stop words removed:"
      ]
    },
    {
      "cell_type": "code",
      "metadata": {
        "id": "mtnAvySDnWIj"
      },
      "source": [
        "print(\"NLTK stemming and stop words:\\n\")\n",
        "for sent in difficult_sents:\n",
        "    nltk_sents = ...\n",
        "    print(f'Original sentence:\\n{nltk_sents}')\n",
        "    nltk_stems = []\n",
        "    nltk_no_stop = []\n",
        "    for sent in nltk_sents:\n",
        "        stemmed_sent = []\n",
        "        for token in sent:\n",
        "            stemmed_token = ...\n",
        "            if stemmed_token not in nltk_stopwords:\n",
        "                nltk_no_stop.append(stemmed_token)\n",
        "            stemmed_sent.append(stemmed_token)\n",
        "        nltk_stems.append(stemmed_sent)\n",
        "    print(f'Stemmed sentence:\\n{nltk_stems}')\n",
        "    print(f'Stemmed sentence without stop words:\\n{nltk_no_stop}')\n",
        "    print('\\n------\\n')"
      ],
      "execution_count": null,
      "outputs": []
    },
    {
      "cell_type": "code",
      "metadata": {
        "colab": {
          "base_uri": "https://localhost:8080/"
        },
        "id": "R15rRiyw2i9s",
        "outputId": "a1f95dbe-dae4-439f-a7ba-33239a3078be"
      },
      "source": [
        "print(\"Spacy lemmatization and stop words:\\n\")\n",
        "for sent in difficult_sents:\n",
        "    doc = ... \n",
        "    print(f'Original sentence:\\n{...}') \n",
        "    print(f'Lemmatized sentence:\\n{...}')\n",
        "    print(f'Lemmatized sentence without stop words:\\n{...}') \n",
        "    print('\\n------\\n')"
      ],
      "execution_count": null,
      "outputs": [
        {
          "output_type": "stream",
          "text": [
            "Spacy lemmatization and stop words:\n",
            "\n",
            "Original sentence:\n",
            "Ellipsis\n",
            "Lemmatized sentence:\n",
            "Ellipsis\n",
            "Lemmatized sentence without stop words:\n",
            "Ellipsis\n",
            "\n",
            "------\n",
            "\n",
            "Original sentence:\n",
            "Ellipsis\n",
            "Lemmatized sentence:\n",
            "Ellipsis\n",
            "Lemmatized sentence without stop words:\n",
            "Ellipsis\n",
            "\n",
            "------\n",
            "\n",
            "Original sentence:\n",
            "Ellipsis\n",
            "Lemmatized sentence:\n",
            "Ellipsis\n",
            "Lemmatized sentence without stop words:\n",
            "Ellipsis\n",
            "\n",
            "------\n",
            "\n"
          ],
          "name": "stdout"
        }
      ]
    }
  ]
}